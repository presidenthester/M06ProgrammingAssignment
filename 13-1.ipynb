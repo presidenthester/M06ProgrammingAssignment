{
 "cells": [
  {
   "cell_type": "code",
   "execution_count": 5,
   "id": "2da2ab15",
   "metadata": {},
   "outputs": [],
   "source": [
    "from datetime import datetime\n",
    "\n",
    "date_str = datetime.today().strftime('%Y-%m-%d')\n",
    "with open('today_string.txt', 'w') as f:\n",
    "    f.write(date_str)\n",
    "    \n",
    "with open('today_string.txt', 'r') as f:\n",
    "    today_string = f.read()\n",
    "    \n",
    "date_obj = datetime.strptime(today_string, '%Y-%m-%d')"
   ]
  }
 ],
 "metadata": {
  "kernelspec": {
   "display_name": "Python 3 (ipykernel)",
   "language": "python",
   "name": "python3"
  },
  "language_info": {
   "codemirror_mode": {
    "name": "ipython",
    "version": 3
   },
   "file_extension": ".py",
   "mimetype": "text/x-python",
   "name": "python",
   "nbconvert_exporter": "python",
   "pygments_lexer": "ipython3",
   "version": "3.10.9"
  }
 },
 "nbformat": 4,
 "nbformat_minor": 5
}
